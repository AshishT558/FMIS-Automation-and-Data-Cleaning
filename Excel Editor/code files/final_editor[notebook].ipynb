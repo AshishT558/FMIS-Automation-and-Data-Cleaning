{
 "cells": [
  {
   "cell_type": "code",
   "execution_count": 1,
   "metadata": {},
   "outputs": [],
   "source": [
    "from editor_logic import edit_sheet\n",
    "from tqdm import tqdm\n",
    "import os\n"
   ]
  },
  {
   "cell_type": "code",
   "execution_count": 4,
   "metadata": {},
   "outputs": [],
   "source": [
    "#local dir path (source)\n",
    "dir_path = \"C:\\\\Users\\\\athomas2\\\\Desktop\\\\Selenium scripts\\\\FMIS Automation and Data Cleaning\\\\Excel Editor\\\\\"\n",
    "\n",
    "#local dir path (end)\n",
    "end_path = \"C:\\\\Users\\\\athomas2\\\\Desktop\\\\Selenium scripts\\\\FMIS Automation and Data Cleaning\\\\Excel Editor\\\\Edited Files\\\\\""
   ]
  },
  {
   "cell_type": "code",
   "execution_count": 6,
   "metadata": {},
   "outputs": [
    {
     "data": {
      "text/plain": [
       "['PL_BUYER_BACKLOG_535074537.xlsx']"
      ]
     },
     "execution_count": 6,
     "metadata": {},
     "output_type": "execute_result"
    }
   ],
   "source": [
    "# get list of all excel files\n",
    "list_excel = []\n",
    "for file in os.listdir(dir_path):\n",
    "    if file.endswith(\".xlsx\"):\n",
    "        list_excel.append(file)\n",
    "list_excel"
   ]
  },
  {
   "cell_type": "code",
   "execution_count": 9,
   "metadata": {},
   "outputs": [
    {
     "name": "stderr",
     "output_type": "stream",
     "text": [
      "C:\\Users\\athomas2\\AppData\\Local\\Packages\\PythonSoftwareFoundation.Python.3.11_qbz5n2kfra8p0\\LocalCache\\local-packages\\Python311\\site-packages\\openpyxl\\styles\\stylesheet.py:226: UserWarning: Workbook contains no default style, apply openpyxl's default\n",
      "  warn(\"Workbook contains no default style, apply openpyxl's default\")\n"
     ]
    }
   ],
   "source": [
    "#call editor function on each sheet, pass in sheet name, original directory, ending directory\n",
    "for file in list_excel:\n",
    "    edit_sheet(file, dir_path, end_path)"
   ]
  }
 ],
 "metadata": {
  "kernelspec": {
   "display_name": "Python 3",
   "language": "python",
   "name": "python3"
  },
  "language_info": {
   "codemirror_mode": {
    "name": "ipython",
    "version": 3
   },
   "file_extension": ".py",
   "mimetype": "text/x-python",
   "name": "python",
   "nbconvert_exporter": "python",
   "pygments_lexer": "ipython3",
   "version": "3.11.8"
  }
 },
 "nbformat": 4,
 "nbformat_minor": 2
}
